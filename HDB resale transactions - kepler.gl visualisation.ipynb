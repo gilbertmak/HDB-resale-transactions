{
 "cells": [
  {
   "cell_type": "code",
   "execution_count": 1,
   "id": "c9144ddd",
   "metadata": {},
   "outputs": [],
   "source": [
    "from keplergl import KeplerGl\n",
    "import pandas as pd"
   ]
  },
  {
   "cell_type": "code",
   "execution_count": 2,
   "id": "83db8dd9",
   "metadata": {},
   "outputs": [],
   "source": [
    "df = pd.read_csv('geocoded_resale_prices.csv')\n",
    "df['Postal Code'] = df['Postal Code'].astype('int')"
   ]
  },
  {
   "cell_type": "code",
   "execution_count": 3,
   "id": "a7c28960",
   "metadata": {},
   "outputs": [
    {
     "name": "stdout",
     "output_type": "stream",
     "text": [
      "User Guide: https://docs.kepler.gl/docs/keplergl-jupyter\n"
     ]
    }
   ],
   "source": [
    "hdb_map = KeplerGl(height=600, data={'Resale HDB transactions':df})\n",
    "\n",
    "with open('MP2019 Rail Station.geojson', 'r') as f:\n",
    "    station = f.read()\n",
    "    \n",
    "with open('MP2019 Rail Line.geojson', 'r') as f:\n",
    "    mrt_lines = f.read()"
   ]
  },
  {
   "cell_type": "code",
   "execution_count": 4,
   "id": "d93ac0cb",
   "metadata": {},
   "outputs": [
    {
     "data": {
      "application/vnd.jupyter.widget-view+json": {
       "model_id": "baed7836c0e144c895159da1b920f0fa",
       "version_major": 2,
       "version_minor": 0
      },
      "text/plain": [
       "KeplerGl(data={'Resale HDB transactions':                    Date        Town Flat Type                  Addre…"
      ]
     },
     "metadata": {},
     "output_type": "display_data"
    }
   ],
   "source": [
    "# add data into kepler.gl map\n",
    "hdb_map.add_data(data=station, name='MRT Station')\n",
    "hdb_map.add_data(data=mrt_lines, name='MRT Lines')\n",
    "\n",
    "# generate kepler.gl map\n",
    "hdb_map"
   ]
  }
 ],
 "metadata": {
  "kernelspec": {
   "display_name": "Python 3",
   "language": "python",
   "name": "python3"
  },
  "language_info": {
   "codemirror_mode": {
    "name": "ipython",
    "version": 3
   },
   "file_extension": ".py",
   "mimetype": "text/x-python",
   "name": "python",
   "nbconvert_exporter": "python",
   "pygments_lexer": "ipython3",
   "version": "3.8.8"
  }
 },
 "nbformat": 4,
 "nbformat_minor": 5
}
